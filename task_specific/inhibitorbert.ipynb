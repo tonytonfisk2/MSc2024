{
 "cells": [
  {
   "cell_type": "code",
   "execution_count": 16,
   "id": "5a2d6aec-9e70-43f7-b3aa-7bcf5ef1315d",
   "metadata": {},
   "outputs": [],
   "source": [
    "import torch\n",
    "import torch.nn.functional as F\n",
    "from torch import nn\n",
    "import math\n",
    "from transformers.models.distilbert.modeling_distilbert import MultiHeadSelfAttention\n",
    "from transformers.configuration_utils import PretrainedConfig\n",
    "from transformers import DistilBertForSequenceClassification, DistilBertConfig\n",
    "\n"
   ]
  },
  {
   "cell_type": "code",
   "execution_count": 17,
   "id": "b5809113-f63d-4638-8677-e61784ae7d9a",
   "metadata": {},
   "outputs": [],
   "source": [
    "student_config = DistilBertConfig(output_hidden_states = True)\n",
    "student_config.distance_metric = 'manhattan'"
   ]
  },
  {
   "cell_type": "code",
   "execution_count": 18,
   "id": "4b4d2cf9-4f6a-4f1b-b76a-95353eb2e741",
   "metadata": {
    "scrolled": true
   },
   "outputs": [
    {
     "name": "stdout",
     "output_type": "stream",
     "text": [
      "DistilBertConfig {\n",
      "  \"activation\": \"gelu\",\n",
      "  \"attention_dropout\": 0.1,\n",
      "  \"dim\": 768,\n",
      "  \"distance_metric\": \"manhattan\",\n",
      "  \"dropout\": 0.1,\n",
      "  \"hidden_dim\": 3072,\n",
      "  \"initializer_range\": 0.02,\n",
      "  \"max_position_embeddings\": 512,\n",
      "  \"model_type\": \"distilbert\",\n",
      "  \"n_heads\": 12,\n",
      "  \"n_layers\": 6,\n",
      "  \"output_hidden_states\": true,\n",
      "  \"pad_token_id\": 0,\n",
      "  \"qa_dropout\": 0.1,\n",
      "  \"seq_classif_dropout\": 0.2,\n",
      "  \"sinusoidal_pos_embds\": false,\n",
      "  \"transformers_version\": \"4.41.2\",\n",
      "  \"vocab_size\": 30522\n",
      "}\n",
      "\n"
     ]
    }
   ],
   "source": [
    "print(student_config)"
   ]
  },
  {
   "cell_type": "code",
   "execution_count": null,
   "id": "0f347dc8-0779-495e-82a3-f0bde3f9aae9",
   "metadata": {},
   "outputs": [],
   "source": []
  }
 ],
 "metadata": {
  "kernelspec": {
   "display_name": "Python 3 (ipykernel)",
   "language": "python",
   "name": "python3"
  },
  "language_info": {
   "codemirror_mode": {
    "name": "ipython",
    "version": 3
   },
   "file_extension": ".py",
   "mimetype": "text/x-python",
   "name": "python",
   "nbconvert_exporter": "python",
   "pygments_lexer": "ipython3",
   "version": "3.11.0rc1"
  }
 },
 "nbformat": 4,
 "nbformat_minor": 5
}
