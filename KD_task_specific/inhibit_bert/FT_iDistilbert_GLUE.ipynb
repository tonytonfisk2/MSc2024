{
 "cells": [
  {
   "cell_type": "code",
   "execution_count": 1,
   "id": "517eb148-1fad-438b-a634-788bad7d6869",
   "metadata": {
    "editable": true,
    "slideshow": {
     "slide_type": ""
    },
    "tags": []
   },
   "outputs": [
    {
     "name": "stderr",
     "output_type": "stream",
     "text": [
      "/usr/local/lib/python3.11/dist-packages/tqdm/auto.py:21: TqdmWarning: IProgress not found. Please update jupyter and ipywidgets. See https://ipywidgets.readthedocs.io/en/stable/user_install.html\n",
      "  from .autonotebook import tqdm as notebook_tqdm\n",
      "2024-10-12 17:16:58.245064: I tensorflow/core/util/port.cc:153] oneDNN custom operations are on. You may see slightly different numerical results due to floating-point round-off errors from different computation orders. To turn them off, set the environment variable `TF_ENABLE_ONEDNN_OPTS=0`.\n",
      "2024-10-12 17:16:58.257043: E external/local_xla/xla/stream_executor/cuda/cuda_fft.cc:485] Unable to register cuFFT factory: Attempting to register factory for plugin cuFFT when one has already been registered\n",
      "2024-10-12 17:16:58.269997: E external/local_xla/xla/stream_executor/cuda/cuda_dnn.cc:8454] Unable to register cuDNN factory: Attempting to register factory for plugin cuDNN when one has already been registered\n",
      "2024-10-12 17:16:58.273877: E external/local_xla/xla/stream_executor/cuda/cuda_blas.cc:1452] Unable to register cuBLAS factory: Attempting to register factory for plugin cuBLAS when one has already been registered\n",
      "2024-10-12 17:16:58.284719: I tensorflow/core/platform/cpu_feature_guard.cc:210] This TensorFlow binary is optimized to use available CPU instructions in performance-critical operations.\n",
      "To enable the following instructions: AVX2 AVX512F AVX512_VNNI AVX512_BF16 FMA, in other operations, rebuild TensorFlow with the appropriate compiler flags.\n"
     ]
    }
   ],
   "source": [
    "import comet_ml\n",
    "import numpy as np\n",
    "from datasets import load_dataset, DatasetDict\n",
    "from transformers import AutoTokenizer\n",
    "from transformers import TrainingArguments, Trainer\n",
    "import torch\n",
    "import torch.nn as nn\n",
    "import torch.nn.functional as F"
   ]
  },
  {
   "cell_type": "code",
   "execution_count": 2,
   "id": "ef647f9d-1fac-471a-a0b6-415e9bfda542",
   "metadata": {},
   "outputs": [
    {
     "name": "stderr",
     "output_type": "stream",
     "text": [
      "/usr/local/lib/python3.11/dist-packages/transformers/tokenization_utils_base.py:1601: FutureWarning: `clean_up_tokenization_spaces` was not set. It will be set to `True` by default. This behavior will be depracted in transformers v4.45, and will be then set to `False` by default. For more details check this issue: https://github.com/huggingface/transformers/issues/31884\n",
      "  warnings.warn(\n"
     ]
    }
   ],
   "source": [
    "from datasets import load_dataset\n",
    "from transformers import AutoTokenizer\n",
    "\n",
    "# Load the STS-B dataset\n",
    "dataset = load_dataset(\"glue\", \"stsb\")\n",
    "\n",
    "# Load the DistilBERT tokenizer\n",
    "tokenizer = AutoTokenizer.from_pretrained(\"distilbert-base-uncased\")\n",
    "\n",
    "# Preprocess the dataset: tokenize the sentence pairs\n",
    "def preprocess_function(examples):\n",
    "    return tokenizer(examples['sentence1'], examples['sentence2'], padding=\"max_length\", truncation=True)\n",
    "\n",
    "tokenized_datasets = dataset.map(preprocess_function, batched=True)\n",
    "tokenized_datasets = tokenized_datasets.remove_columns(['sentence1', 'sentence2', 'idx'])\n",
    "tokenized_datasets = tokenized_datasets.map(lambda examples: {'label': float(examples['label'])})\n"
   ]
  },
  {
   "cell_type": "code",
   "execution_count": 3,
   "id": "02ab3194-b789-4a76-8c99-3018b3c08bc6",
   "metadata": {
    "editable": true,
    "slideshow": {
     "slide_type": ""
    },
    "tags": []
   },
   "outputs": [
    {
     "name": "stderr",
     "output_type": "stream",
     "text": [
      "/tmp/ipykernel_4054245/1126949511.py:16: FutureWarning: You are using `torch.load` with `weights_only=False` (the current default value), which uses the default pickle module implicitly. It is possible to construct malicious pickle data which will execute arbitrary code during unpickling (See https://github.com/pytorch/pytorch/blob/main/SECURITY.md#untrusted-models for more details). In a future release, the default value for `weights_only` will be flipped to `True`. This limits the functions that could be executed during unpickling. Arbitrary objects will no longer be allowed to be loaded via this mode unless they are explicitly allowlisted by the user via `torch.serialization.add_safe_globals`. We recommend you start setting `weights_only=True` for any use case where you don't have full control of the loaded file. Please open an issue on GitHub for any issues related to this experimental feature.\n",
      "  initialized_weights = torch.load('/shared/Tony/MSc2024/distilbert_init/models/hiddenstates4_center_inhibitor_init.pth')\n"
     ]
    },
    {
     "data": {
      "text/plain": [
       "iDistilBertForSequenceClassification(\n",
       "  (distilbert): iDistilBertModel(\n",
       "    (embeddings): Embeddings(\n",
       "      (word_embeddings): Embedding(30522, 768, padding_idx=0)\n",
       "      (position_embeddings): Embedding(512, 768)\n",
       "      (LayerNorm): LayerNorm((768,), eps=1e-12, elementwise_affine=True)\n",
       "      (dropout): Dropout(p=0.1, inplace=False)\n",
       "    )\n",
       "    (transformer): iTransformer(\n",
       "      (layer): ModuleList(\n",
       "        (0-5): 6 x iTransformerBlock(\n",
       "          (attention): iMultiHeadSelfAttention(\n",
       "            (dropout): Dropout(p=0.1, inplace=False)\n",
       "            (q_lin): Linear(in_features=768, out_features=768, bias=True)\n",
       "            (k_lin): Linear(in_features=768, out_features=768, bias=True)\n",
       "            (v_lin): Linear(in_features=768, out_features=768, bias=True)\n",
       "            (out_lin): Linear(in_features=768, out_features=768, bias=True)\n",
       "          )\n",
       "          (sa_layer_norm): LayerNorm((768,), eps=1e-12, elementwise_affine=True)\n",
       "          (ffn): FFN(\n",
       "            (dropout): Dropout(p=0.1, inplace=False)\n",
       "            (lin1): Linear(in_features=768, out_features=3072, bias=True)\n",
       "            (lin2): Linear(in_features=3072, out_features=768, bias=True)\n",
       "            (activation): GELUActivation()\n",
       "          )\n",
       "          (output_layer_norm): LayerNorm((768,), eps=1e-12, elementwise_affine=True)\n",
       "        )\n",
       "      )\n",
       "    )\n",
       "  )\n",
       "  (pre_classifier): Linear(in_features=768, out_features=768, bias=True)\n",
       "  (classifier): Linear(in_features=768, out_features=1, bias=True)\n",
       "  (dropout): Dropout(p=0.2, inplace=False)\n",
       ")"
      ]
     },
     "execution_count": 3,
     "metadata": {},
     "output_type": "execute_result"
    }
   ],
   "source": [
    "from transformers import DistilBertForSequenceClassification, AutoModelForSequenceClassification, DistilBertConfig, DataCollatorWithPadding\n",
    "from iDistilbert import iDistilBertForSequenceClassification\n",
    "student_config = DistilBertConfig(\n",
    "    output_hidden_states = False,\n",
    "    distance_metric = \"manhattan_distance\",\n",
    "    activation_function = \"relu\",\n",
    "    signed_inhibitor =  True,\n",
    "    center = True,\n",
    "    num_labels = 1,\n",
    "    )\n",
    "\n",
    "#student_model = iDistilBertForSequenceClassification.from_pretrained('/shared/Tony/MSc2024/distilbert_init/results/checkpoint-18495', config = student_config)\n",
    "student_model = iDistilBertForSequenceClassification(\n",
    "        config=student_config,\n",
    "    )\n",
    "initialized_weights = torch.load('/shared/Tony/MSc2024/distilbert_init/models/hiddenstates4_center_inhibitor_init.pth')\n",
    "student_model.load_state_dict(initialized_weights, strict=False)\n",
    "\n",
    "device = 'cuda' if torch.cuda.is_available() else 'cpu'\n",
    "student_model.to(device)\n"
   ]
  },
  {
   "cell_type": "code",
   "execution_count": null,
   "id": "69824ec2-c219-4baa-a9f4-d2da5610bc8e",
   "metadata": {
    "editable": true,
    "slideshow": {
     "slide_type": ""
    },
    "tags": []
   },
   "outputs": [],
   "source": [
    "from transformers import DistilBertForSequenceClassification, AutoModelForSequenceClassification, DistilBertConfig, DataCollatorWithPadding\n",
    "from iDistilbert import iDistilBertForSequenceClassification\n",
    "student_id = \"distilbert/distilbert-base-uncased\"\n",
    "student_config = DistilBertConfig(    \n",
    "    distance_metric = \"cosine_distance\",\n",
    "    activation_function = \"softmax\",\n",
    "    signed_inhibitor =  False,\n",
    "    alpha = 0,\n",
    "    center = False,\n",
    "    output_contexts = False,\n",
    ")\n",
    "\n",
    "test_config = DistilBertConfig(         \n",
    "            num_labels = num_labels,\n",
    ")\n",
    "    \n",
    "student_model = DistilBertForSequenceClassification.from_pretrained(\n",
    "        student_id,\n",
    "        config = test_config\n",
    "    )\n",
    "\n",
    "#initialized_weights = torch.load('/shared/Tony/MSc2024/distilbert_init/models/hiddenstates_inhibitor_init.pth')\n",
    "#student_model.load_state_dict(initialized_weights, strict=False)\n",
    "\n",
    "device = 'cuda' if torch.cuda.is_available() else 'cpu'\n",
    "student_model.to(device)\n"
   ]
  },
  {
   "cell_type": "code",
   "execution_count": 4,
   "id": "367e46ad-52f4-4fff-b7bc-ab41f4a5c165",
   "metadata": {},
   "outputs": [],
   "source": [
    "import evaluate\n",
    "import numpy as np\n",
    "\n",
    "# Load the evaluation metric\n",
    "pearson_metric = evaluate.load(\"glue\", \"stsb\")\n",
    "\n",
    "# Define the compute_metrics function\n",
    "def compute_metrics(eval_pred):\n",
    "    predictions, labels = eval_pred\n",
    "    # Clip predictions between 0 and 5 as STS-B labels are in this range\n",
    "    predictions = np.clip(predictions, 0, 5)\n",
    "    # Compute Pearson correlation\n",
    "    return pearson_metric.compute(predictions=predictions, references=labels)\n"
   ]
  },
  {
   "cell_type": "code",
   "execution_count": 5,
   "id": "640aa6d2-4bfa-43db-9d11-97e96b9ac5dd",
   "metadata": {
    "editable": true,
    "slideshow": {
     "slide_type": ""
    },
    "tags": []
   },
   "outputs": [],
   "source": [
    "EPOCHS = 4\n",
    "BATCH_SIZE = 8\n",
    "LEARNING_RATE = 2e-5\n",
    "data_collator = DataCollatorWithPadding(tokenizer=tokenizer)\n",
    "\n",
    "            \n",
    "training_args = TrainingArguments(\n",
    "    output_dir = './results',\n",
    "    num_train_epochs = EPOCHS,\n",
    "    per_device_train_batch_size = BATCH_SIZE,\n",
    "    per_device_eval_batch_size = BATCH_SIZE,\n",
    "    learning_rate = LEARNING_RATE,\n",
    "    logging_dir = './logs',\n",
    "    load_best_model_at_end= True,\n",
    "    eval_strategy=\"epoch\",\n",
    "    save_strategy=\"epoch\",\n",
    "    logging_steps = 20,\n",
    "    report_to=['tensorboard'],\n",
    "    lr_scheduler_type=\"cosine\",\n",
    "    #gradient_accumulation_steps=2,\n",
    "    weight_decay = 0.01,\n",
    ")\n",
    "\n",
    "trainer = Trainer(\n",
    "    model=student_model,                         \n",
    "    args=training_args,                  \n",
    "    train_dataset=tokenized_datasets['train'],         \n",
    "    eval_dataset=tokenized_datasets['validation'],\n",
    "    compute_metrics = compute_metrics,\n",
    "    tokenizer = tokenizer,\n",
    "    data_collator = data_collator,\n",
    ")\n"
   ]
  },
  {
   "cell_type": "code",
   "execution_count": 6,
   "id": "0804c1bf-c4d6-462c-b6a5-2d60b377f640",
   "metadata": {
    "editable": true,
    "slideshow": {
     "slide_type": ""
    },
    "tags": []
   },
   "outputs": [
    {
     "name": "stderr",
     "output_type": "stream",
     "text": [
      "/usr/local/lib/python3.11/dist-packages/torch/nn/parallel/_functions.py:68: UserWarning: Was asked to gather along dimension 0, but all input tensors were scalars; will instead unsqueeze and return a vector.\n",
      "  warnings.warn('Was asked to gather along dimension 0, but all '\n"
     ]
    },
    {
     "data": {
      "text/html": [
       "\n",
       "    <div>\n",
       "      \n",
       "      <progress value='1440' max='1440' style='width:300px; height:20px; vertical-align: middle;'></progress>\n",
       "      [1440/1440 18:10, Epoch 4/4]\n",
       "    </div>\n",
       "    <table border=\"1\" class=\"dataframe\">\n",
       "  <thead>\n",
       " <tr style=\"text-align: left;\">\n",
       "      <th>Epoch</th>\n",
       "      <th>Training Loss</th>\n",
       "      <th>Validation Loss</th>\n",
       "      <th>Pearson</th>\n",
       "      <th>Spearmanr</th>\n",
       "    </tr>\n",
       "  </thead>\n",
       "  <tbody>\n",
       "    <tr>\n",
       "      <td>1</td>\n",
       "      <td>1.423800</td>\n",
       "      <td>2.744536</td>\n",
       "      <td>0.466484</td>\n",
       "      <td>0.451165</td>\n",
       "    </tr>\n",
       "    <tr>\n",
       "      <td>2</td>\n",
       "      <td>0.814600</td>\n",
       "      <td>1.155776</td>\n",
       "      <td>0.789493</td>\n",
       "      <td>0.807562</td>\n",
       "    </tr>\n",
       "    <tr>\n",
       "      <td>3</td>\n",
       "      <td>0.627900</td>\n",
       "      <td>0.838729</td>\n",
       "      <td>0.828929</td>\n",
       "      <td>0.831695</td>\n",
       "    </tr>\n",
       "    <tr>\n",
       "      <td>4</td>\n",
       "      <td>0.417800</td>\n",
       "      <td>0.747226</td>\n",
       "      <td>0.833771</td>\n",
       "      <td>0.833630</td>\n",
       "    </tr>\n",
       "  </tbody>\n",
       "</table><p>"
      ],
      "text/plain": [
       "<IPython.core.display.HTML object>"
      ]
     },
     "metadata": {},
     "output_type": "display_data"
    },
    {
     "name": "stderr",
     "output_type": "stream",
     "text": [
      "/usr/local/lib/python3.11/dist-packages/torch/nn/parallel/_functions.py:68: UserWarning: Was asked to gather along dimension 0, but all input tensors were scalars; will instead unsqueeze and return a vector.\n",
      "  warnings.warn('Was asked to gather along dimension 0, but all '\n",
      "/usr/local/lib/python3.11/dist-packages/torch/nn/parallel/_functions.py:68: UserWarning: Was asked to gather along dimension 0, but all input tensors were scalars; will instead unsqueeze and return a vector.\n",
      "  warnings.warn('Was asked to gather along dimension 0, but all '\n",
      "/usr/local/lib/python3.11/dist-packages/torch/nn/parallel/_functions.py:68: UserWarning: Was asked to gather along dimension 0, but all input tensors were scalars; will instead unsqueeze and return a vector.\n",
      "  warnings.warn('Was asked to gather along dimension 0, but all '\n",
      "/usr/local/lib/python3.11/dist-packages/torch/nn/parallel/_functions.py:68: UserWarning: Was asked to gather along dimension 0, but all input tensors were scalars; will instead unsqueeze and return a vector.\n",
      "  warnings.warn('Was asked to gather along dimension 0, but all '\n"
     ]
    },
    {
     "data": {
      "text/plain": [
       "TrainOutput(global_step=1440, training_loss=1.058040302991867, metrics={'train_runtime': 1092.344, 'train_samples_per_second': 21.052, 'train_steps_per_second': 1.318, 'total_flos': 3046167246065664.0, 'train_loss': 1.058040302991867, 'epoch': 4.0})"
      ]
     },
     "execution_count": 6,
     "metadata": {},
     "output_type": "execute_result"
    }
   ],
   "source": [
    "trainer.train()"
   ]
  },
  {
   "cell_type": "code",
   "execution_count": 7,
   "id": "5b6ff019-b157-44fa-9c86-423f7713d1cc",
   "metadata": {},
   "outputs": [
    {
     "name": "stdout",
     "output_type": "stream",
     "text": [
      "distilbert.transformer.layer.0.attention.alpha (alpha): Parameter containing:\n",
      "tensor(0.6472, device='cuda:0', requires_grad=True)\n",
      "distilbert.transformer.layer.0.attention.beta (beta): Parameter containing:\n",
      "tensor(0.8316, device='cuda:0', requires_grad=True)\n",
      "distilbert.transformer.layer.0.attention.gamma (gamma): Parameter containing:\n",
      "tensor(0.6950, device='cuda:0', requires_grad=True)\n",
      "distilbert.transformer.layer.1.attention.alpha (alpha): Parameter containing:\n",
      "tensor(0.6092, device='cuda:0', requires_grad=True)\n",
      "distilbert.transformer.layer.1.attention.beta (beta): Parameter containing:\n",
      "tensor(0.9237, device='cuda:0', requires_grad=True)\n",
      "distilbert.transformer.layer.1.attention.gamma (gamma): Parameter containing:\n",
      "tensor(0.8291, device='cuda:0', requires_grad=True)\n",
      "distilbert.transformer.layer.2.attention.alpha (alpha): Parameter containing:\n",
      "tensor(0.6021, device='cuda:0', requires_grad=True)\n",
      "distilbert.transformer.layer.2.attention.beta (beta): Parameter containing:\n",
      "tensor(0.8741, device='cuda:0', requires_grad=True)\n",
      "distilbert.transformer.layer.2.attention.gamma (gamma): Parameter containing:\n",
      "tensor(0.8148, device='cuda:0', requires_grad=True)\n",
      "distilbert.transformer.layer.3.attention.alpha (alpha): Parameter containing:\n",
      "tensor(0.5967, device='cuda:0', requires_grad=True)\n",
      "distilbert.transformer.layer.3.attention.beta (beta): Parameter containing:\n",
      "tensor(0.8983, device='cuda:0', requires_grad=True)\n",
      "distilbert.transformer.layer.3.attention.gamma (gamma): Parameter containing:\n",
      "tensor(0.8449, device='cuda:0', requires_grad=True)\n",
      "distilbert.transformer.layer.4.attention.alpha (alpha): Parameter containing:\n",
      "tensor(0.6433, device='cuda:0', requires_grad=True)\n",
      "distilbert.transformer.layer.4.attention.beta (beta): Parameter containing:\n",
      "tensor(0.8471, device='cuda:0', requires_grad=True)\n",
      "distilbert.transformer.layer.4.attention.gamma (gamma): Parameter containing:\n",
      "tensor(0.7222, device='cuda:0', requires_grad=True)\n",
      "distilbert.transformer.layer.5.attention.alpha (alpha): Parameter containing:\n",
      "tensor(0.6631, device='cuda:0', requires_grad=True)\n",
      "distilbert.transformer.layer.5.attention.beta (beta): Parameter containing:\n",
      "tensor(0.8185, device='cuda:0', requires_grad=True)\n",
      "distilbert.transformer.layer.5.attention.gamma (gamma): Parameter containing:\n",
      "tensor(0.6923, device='cuda:0', requires_grad=True)\n"
     ]
    }
   ],
   "source": [
    "for name, param in student_model.named_parameters():\n",
    "    if 'gamma' in name:\n",
    "        print(f\"{name} (gamma): {param}\")\n",
    "    if 'alpha' in name:\n",
    "        print(f\"{name} (alpha): {param}\")\n",
    "    if 'beta' in name:\n",
    "        print(f\"{name} (beta): {param}\")"
   ]
  },
  {
   "cell_type": "code",
   "execution_count": null,
   "id": "86c61709-32bd-4233-8b24-e67fc518270d",
   "metadata": {},
   "outputs": [],
   "source": []
  }
 ],
 "metadata": {
  "kernelspec": {
   "display_name": "Python 3 (ipykernel)",
   "language": "python",
   "name": "python3"
  },
  "language_info": {
   "codemirror_mode": {
    "name": "ipython",
    "version": 3
   },
   "file_extension": ".py",
   "mimetype": "text/x-python",
   "name": "python",
   "nbconvert_exporter": "python",
   "pygments_lexer": "ipython3",
   "version": "3.11.0rc1"
  }
 },
 "nbformat": 4,
 "nbformat_minor": 5
}
