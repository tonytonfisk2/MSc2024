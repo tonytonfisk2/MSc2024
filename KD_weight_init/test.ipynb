{
 "cells": [
  {
   "cell_type": "code",
   "execution_count": 1,
   "id": "246095d0-d84a-4d6a-aead-cfd9e46f5c03",
   "metadata": {},
   "outputs": [
    {
     "name": "stderr",
     "output_type": "stream",
     "text": [
      "/usr/local/lib/python3.11/dist-packages/tqdm/auto.py:21: TqdmWarning: IProgress not found. Please update jupyter and ipywidgets. See https://ipywidgets.readthedocs.io/en/stable/user_install.html\n",
      "  from .autonotebook import tqdm as notebook_tqdm\n",
      "/tmp/ipykernel_2665727/2544236563.py:16: FutureWarning: You are using `torch.load` with `weights_only=False` (the current default value), which uses the default pickle module implicitly. It is possible to construct malicious pickle data which will execute arbitrary code during unpickling (See https://github.com/pytorch/pytorch/blob/main/SECURITY.md#untrusted-models for more details). In a future release, the default value for `weights_only` will be flipped to `True`. This limits the functions that could be executed during unpickling. Arbitrary objects will no longer be allowed to be loaded via this mode unless they are explicitly allowlisted by the user via `torch.serialization.add_safe_globals`. We recommend you start setting `weights_only=True` for any use case where you don't have full control of the loaded file. Please open an issue on GitHub for any issues related to this experimental feature.\n",
      "  initialized_weights = torch.load('/shared/Tony/MSc2024/KD_weight_init/models/hiddenstates4_center_inhibitor_init.pth')\n",
      "/usr/local/lib/python3.11/dist-packages/transformers/tokenization_utils_base.py:1601: FutureWarning: `clean_up_tokenization_spaces` was not set. It will be set to `True` by default. This behavior will be depracted in transformers v4.45, and will be then set to `False` by default. For more details check this issue: https://github.com/huggingface/transformers/issues/31884\n",
      "  warnings.warn(\n"
     ]
    },
    {
     "data": {
      "text/plain": [
       "('./inhibitor_tokenizer/tokenizer_config.json',\n",
       " './inhibitor_tokenizer/special_tokens_map.json',\n",
       " './inhibitor_tokenizer/vocab.txt',\n",
       " './inhibitor_tokenizer/added_tokens.json',\n",
       " './inhibitor_tokenizer/tokenizer.json')"
      ]
     },
     "execution_count": 1,
     "metadata": {},
     "output_type": "execute_result"
    }
   ],
   "source": [
    "import torch\n",
    "from transformers import DistilBertConfig, AutoTokenizer\n",
    "from iDistilbert import iDistilBertForMaskedLM\n",
    "\n",
    "student_config = DistilBertConfig(\n",
    "    distance_metric = \"manhattan_distance\",\n",
    "    activation_function = \"relu\",\n",
    "    signed_inhibitor =  True,\n",
    "    center = True,\n",
    "    )\n",
    "\n",
    "student_model = iDistilBertForMaskedLM(\n",
    "    config = student_config\n",
    ")\n",
    "\n",
    "initialized_weights = torch.load('/shared/Tony/MSc2024/KD_weight_init/models/hiddenstates4_center_inhibitor_init.pth')\n",
    "student_model.load_state_dict(initialized_weights)\n",
    "\n",
    "student_model.save_pretrained(\"./inhibitor_distilbert\")\n",
    "tokenizer = AutoTokenizer.from_pretrained(\"distilbert-base-uncased\")\n",
    "tokenizer.save_pretrained(\"./inhibitor_tokenizer\")"
   ]
  },
  {
   "cell_type": "code",
   "execution_count": 3,
   "id": "160d21a8-a27f-48c8-8843-46b442bcfc95",
   "metadata": {},
   "outputs": [
    {
     "name": "stderr",
     "output_type": "stream",
     "text": [
      "model.safetensors: 100%|██████████| 268M/268M [00:12<00:00, 21.8MB/s] \n"
     ]
    },
    {
     "data": {
      "text/plain": [
       "CommitInfo(commit_url='https://huggingface.co/tonytonfisk/inhibitor_distilbert/commit/af675a145eb32a53bf7a07ae517eccff62f4c70a', commit_message='Upload tokenizer', commit_description='', oid='af675a145eb32a53bf7a07ae517eccff62f4c70a', pr_url=None, repo_url=RepoUrl('https://huggingface.co/tonytonfisk/inhibitor_distilbert', endpoint='https://huggingface.co', repo_type='model', repo_id='tonytonfisk/inhibitor_distilbert'), pr_revision=None, pr_num=None)"
      ]
     },
     "execution_count": 3,
     "metadata": {},
     "output_type": "execute_result"
    }
   ],
   "source": [
    "from huggingface_hub import HfApi, Repository\n",
    "\n",
    "repo_id = \"tonytonfisk/inhibitor_distilbert\"  # Your repo ID\n",
    "student_model.push_to_hub(repo_id)\n",
    "tokenizer.push_to_hub(repo_id)"
   ]
  },
  {
   "cell_type": "code",
   "execution_count": 5,
   "id": "f4036e50-c534-4f0f-8e69-421628cc93db",
   "metadata": {},
   "outputs": [
    {
     "name": "stdout",
     "output_type": "stream",
     "text": [
      "Parameter containing:\n",
      "tensor(0.8952, requires_grad=True)\n",
      "Parameter containing:\n",
      "tensor(0.5040, requires_grad=True)\n"
     ]
    }
   ],
   "source": [
    "print(student_model.distilbert.transformer.layer[0].attention.beta)\n",
    "print(student_model.distilbert.transformer.layer[0].attention.gamma)\n"
   ]
  },
  {
   "cell_type": "code",
   "execution_count": null,
   "id": "a6a998cd-6329-40bd-ac79-d7d095139236",
   "metadata": {},
   "outputs": [],
   "source": []
  }
 ],
 "metadata": {
  "kernelspec": {
   "display_name": "Python 3 (ipykernel)",
   "language": "python",
   "name": "python3"
  },
  "language_info": {
   "codemirror_mode": {
    "name": "ipython",
    "version": 3
   },
   "file_extension": ".py",
   "mimetype": "text/x-python",
   "name": "python",
   "nbconvert_exporter": "python",
   "pygments_lexer": "ipython3",
   "version": "3.11.0rc1"
  }
 },
 "nbformat": 4,
 "nbformat_minor": 5
}
